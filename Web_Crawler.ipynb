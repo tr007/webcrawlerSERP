{
  "nbformat": 4,
  "nbformat_minor": 0,
  "metadata": {
    "colab": {
      "provenance": []
    },
    "kernelspec": {
      "name": "python3",
      "display_name": "Python 3"
    },
    "language_info": {
      "name": "python"
    }
  },
  "cells": [
    {
      "cell_type": "code",
      "source": [
        "import json\n",
        "import csv\n",
        "from googlesearch import search"
      ],
      "metadata": {
        "id": "usEJsO1rH-6Y"
      },
      "execution_count": 1,
      "outputs": []
    },
    {
      "cell_type": "code",
      "source": [
        "query = \"site:youtube.com openinapp.co\"\n",
        "search_results = 10000"
      ],
      "metadata": {
        "id": "oDm27EtJLFQ9"
      },
      "execution_count": 2,
      "outputs": []
    },
    {
      "cell_type": "code",
      "source": [
        "def google_scraped_urls(data):\n",
        "    with open(\"google_scraped_urls.json\", \"w\") as file:\n",
        "        json.dump(data, file, indent=4)"
      ],
      "metadata": {
        "id": "eZAvz5EdLNAe"
      },
      "execution_count": 3,
      "outputs": []
    },
    {
      "cell_type": "code",
      "source": [
        "def youtube_channel_scraped_urls(links):\n",
        "    with open(\"youtube_channel_scraped_urls.json\", \"w\") as file:\n",
        "        json.dump(links, file, indent=4)"
      ],
      "metadata": {
        "id": "23LVRacbOJ0n"
      },
      "execution_count": 4,
      "outputs": []
    },
    {
      "cell_type": "code",
      "source": [
        "extracted_urls = []"
      ],
      "metadata": {
        "id": "k_85WnBnLh6h"
      },
      "execution_count": 5,
      "outputs": []
    },
    {
      "cell_type": "code",
      "source": [
        "for url in search(query, num=search_results):\n",
        "  extracted_urls.append(url)"
      ],
      "metadata": {
        "id": "RlEIgDU_LpbG"
      },
      "execution_count": 6,
      "outputs": []
    },
    {
      "cell_type": "code",
      "source": [
        "google_scraped_urls(extracted_urls)"
      ],
      "metadata": {
        "id": "OeZ9utmML-05"
      },
      "execution_count": 7,
      "outputs": []
    },
    {
      "cell_type": "code",
      "execution_count": 8,
      "metadata": {
        "id": "1cBJECURJrT5"
      },
      "outputs": [],
      "source": [
        "youtube_channels_urls = []"
      ]
    },
    {
      "cell_type": "code",
      "source": [
        "for link in extracted_urls:\n",
        "  if \"youtube.com/channel/\" in link:\n",
        "      youtube_channels_urls.append(link)\n",
        "  elif \"youtube.com/c/\" in link:\n",
        "      youtube_channels_urls.append(link)"
      ],
      "metadata": {
        "id": "qyZ973UOMbgW"
      },
      "execution_count": 9,
      "outputs": []
    },
    {
      "cell_type": "code",
      "source": [
        "youtube_channel_scraped_urls(youtube_channels_urls)"
      ],
      "metadata": {
        "id": "RP5cUO5ZM3_p"
      },
      "execution_count": 10,
      "outputs": []
    }
  ]
}